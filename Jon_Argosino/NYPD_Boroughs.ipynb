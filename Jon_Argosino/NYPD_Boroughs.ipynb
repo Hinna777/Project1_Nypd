{
 "cells": [
  {
   "cell_type": "markdown",
   "id": "994a716b",
   "metadata": {},
   "source": [
    "# NYPD Borough and Precinct Analysis"
   ]
  },
  {
   "cell_type": "code",
   "execution_count": 87,
   "id": "b4591c5f",
   "metadata": {
    "scrolled": true
   },
   "outputs": [
    {
     "data": {
      "text/html": [
       "<div>\n",
       "<style scoped>\n",
       "    .dataframe tbody tr th:only-of-type {\n",
       "        vertical-align: middle;\n",
       "    }\n",
       "\n",
       "    .dataframe tbody tr th {\n",
       "        vertical-align: top;\n",
       "    }\n",
       "\n",
       "    .dataframe thead th {\n",
       "        text-align: right;\n",
       "    }\n",
       "</style>\n",
       "<table border=\"1\" class=\"dataframe\">\n",
       "  <thead>\n",
       "    <tr style=\"text-align: right;\">\n",
       "      <th></th>\n",
       "      <th>ARREST_KEY</th>\n",
       "      <th>ARREST_DATE</th>\n",
       "      <th>PD_CD</th>\n",
       "      <th>PD_DESC</th>\n",
       "      <th>KY_CD</th>\n",
       "      <th>OFNS_DESC</th>\n",
       "      <th>LAW_CODE</th>\n",
       "      <th>LAW_CAT_CD</th>\n",
       "      <th>ARREST_BORO</th>\n",
       "      <th>ARREST_PRECINCT</th>\n",
       "      <th>JURISDICTION_CODE</th>\n",
       "      <th>AGE_GROUP</th>\n",
       "      <th>PERP_SEX</th>\n",
       "      <th>PERP_RACE</th>\n",
       "      <th>X_COORD_CD</th>\n",
       "      <th>Y_COORD_CD</th>\n",
       "      <th>Latitude</th>\n",
       "      <th>Longitude</th>\n",
       "      <th>New Georeferenced Column</th>\n",
       "    </tr>\n",
       "  </thead>\n",
       "  <tbody>\n",
       "    <tr>\n",
       "      <th>0</th>\n",
       "      <td>238859078</td>\n",
       "      <td>01/09/2022</td>\n",
       "      <td>NaN</td>\n",
       "      <td>(null)</td>\n",
       "      <td>NaN</td>\n",
       "      <td>(null)</td>\n",
       "      <td>PL 2650022</td>\n",
       "      <td>M</td>\n",
       "      <td>B</td>\n",
       "      <td>49</td>\n",
       "      <td>0</td>\n",
       "      <td>25-44</td>\n",
       "      <td>M</td>\n",
       "      <td>BLACK HISPANIC</td>\n",
       "      <td>1021536</td>\n",
       "      <td>251417</td>\n",
       "      <td>40.856680</td>\n",
       "      <td>-73.865212</td>\n",
       "      <td>POINT (-73.865212 40.85668)</td>\n",
       "    </tr>\n",
       "    <tr>\n",
       "      <th>1</th>\n",
       "      <td>239923883</td>\n",
       "      <td>01/31/2022</td>\n",
       "      <td>NaN</td>\n",
       "      <td>(null)</td>\n",
       "      <td>NaN</td>\n",
       "      <td>(null)</td>\n",
       "      <td>CPL5700600</td>\n",
       "      <td>9</td>\n",
       "      <td>Q</td>\n",
       "      <td>113</td>\n",
       "      <td>3</td>\n",
       "      <td>25-44</td>\n",
       "      <td>M</td>\n",
       "      <td>BLACK</td>\n",
       "      <td>1046367</td>\n",
       "      <td>186986</td>\n",
       "      <td>40.679701</td>\n",
       "      <td>-73.776047</td>\n",
       "      <td>POINT (-73.77604735 40.67970059)</td>\n",
       "    </tr>\n",
       "    <tr>\n",
       "      <th>2</th>\n",
       "      <td>239651234</td>\n",
       "      <td>01/25/2022</td>\n",
       "      <td>153.0</td>\n",
       "      <td>RAPE 3</td>\n",
       "      <td>104.0</td>\n",
       "      <td>RAPE</td>\n",
       "      <td>PL 1302503</td>\n",
       "      <td>F</td>\n",
       "      <td>K</td>\n",
       "      <td>71</td>\n",
       "      <td>0</td>\n",
       "      <td>25-44</td>\n",
       "      <td>M</td>\n",
       "      <td>BLACK</td>\n",
       "      <td>998742</td>\n",
       "      <td>181235</td>\n",
       "      <td>40.664121</td>\n",
       "      <td>-73.947765</td>\n",
       "      <td>POINT (-73.9477648403751 40.664121282631)</td>\n",
       "    </tr>\n",
       "    <tr>\n",
       "      <th>3</th>\n",
       "      <td>241524225</td>\n",
       "      <td>03/03/2022</td>\n",
       "      <td>157.0</td>\n",
       "      <td>RAPE 1</td>\n",
       "      <td>104.0</td>\n",
       "      <td>RAPE</td>\n",
       "      <td>PL 1303501</td>\n",
       "      <td>F</td>\n",
       "      <td>K</td>\n",
       "      <td>84</td>\n",
       "      <td>0</td>\n",
       "      <td>18-24</td>\n",
       "      <td>M</td>\n",
       "      <td>BLACK</td>\n",
       "      <td>988902</td>\n",
       "      <td>192641</td>\n",
       "      <td>40.695439</td>\n",
       "      <td>-73.983225</td>\n",
       "      <td>POINT (-73.9832253756043 40.6954388081238)</td>\n",
       "    </tr>\n",
       "    <tr>\n",
       "      <th>4</th>\n",
       "      <td>241038267</td>\n",
       "      <td>02/22/2022</td>\n",
       "      <td>157.0</td>\n",
       "      <td>RAPE 1</td>\n",
       "      <td>104.0</td>\n",
       "      <td>RAPE</td>\n",
       "      <td>PL 1303501</td>\n",
       "      <td>F</td>\n",
       "      <td>B</td>\n",
       "      <td>41</td>\n",
       "      <td>0</td>\n",
       "      <td>45-64</td>\n",
       "      <td>M</td>\n",
       "      <td>BLACK</td>\n",
       "      <td>1013037</td>\n",
       "      <td>236657</td>\n",
       "      <td>40.816206</td>\n",
       "      <td>-73.896001</td>\n",
       "      <td>POINT (-73.8960011932583 40.8162058439227)</td>\n",
       "    </tr>\n",
       "  </tbody>\n",
       "</table>\n",
       "</div>"
      ],
      "text/plain": [
       "   ARREST_KEY ARREST_DATE  PD_CD PD_DESC  KY_CD OFNS_DESC    LAW_CODE  \\\n",
       "0   238859078  01/09/2022    NaN  (null)    NaN    (null)  PL 2650022   \n",
       "1   239923883  01/31/2022    NaN  (null)    NaN    (null)  CPL5700600   \n",
       "2   239651234  01/25/2022  153.0  RAPE 3  104.0      RAPE  PL 1302503   \n",
       "3   241524225  03/03/2022  157.0  RAPE 1  104.0      RAPE  PL 1303501   \n",
       "4   241038267  02/22/2022  157.0  RAPE 1  104.0      RAPE  PL 1303501   \n",
       "\n",
       "  LAW_CAT_CD ARREST_BORO  ARREST_PRECINCT  JURISDICTION_CODE AGE_GROUP  \\\n",
       "0          M           B               49                  0     25-44   \n",
       "1          9           Q              113                  3     25-44   \n",
       "2          F           K               71                  0     25-44   \n",
       "3          F           K               84                  0     18-24   \n",
       "4          F           B               41                  0     45-64   \n",
       "\n",
       "  PERP_SEX       PERP_RACE  X_COORD_CD  Y_COORD_CD   Latitude  Longitude  \\\n",
       "0        M  BLACK HISPANIC     1021536      251417  40.856680 -73.865212   \n",
       "1        M           BLACK     1046367      186986  40.679701 -73.776047   \n",
       "2        M           BLACK      998742      181235  40.664121 -73.947765   \n",
       "3        M           BLACK      988902      192641  40.695439 -73.983225   \n",
       "4        M           BLACK     1013037      236657  40.816206 -73.896001   \n",
       "\n",
       "                     New Georeferenced Column  \n",
       "0                 POINT (-73.865212 40.85668)  \n",
       "1            POINT (-73.77604735 40.67970059)  \n",
       "2   POINT (-73.9477648403751 40.664121282631)  \n",
       "3  POINT (-73.9832253756043 40.6954388081238)  \n",
       "4  POINT (-73.8960011932583 40.8162058439227)  "
      ]
     },
     "execution_count": 87,
     "metadata": {},
     "output_type": "execute_result"
    }
   ],
   "source": [
    "# Dependencies and Setup\n",
    "import matplotlib.pyplot as plt\n",
    "import pandas as pd\n",
    "import scipy.stats as st\n",
    "import numpy as np\n",
    "from scipy.stats import sem\n",
    "from scipy.stats import linregress\n",
    "\n",
    "# CSV path\n",
    "nypd_csv = \"Resources/NYPD_Arrest_Data__Year_to_Date_.csv\"\n",
    "\n",
    "#Read NYPD dataset\n",
    "nypd_data = pd.read_csv(nypd_csv)\n",
    "nypd_data.head()"
   ]
  },
  {
   "cell_type": "code",
   "execution_count": 18,
   "id": "cfdee70f",
   "metadata": {},
   "outputs": [],
   "source": [
    "# Reduce the number of columns\n",
    "nypd_data.drop(nypd_data.columns[[1,2,3,4,5,6,7,10,11,12,13,18]], axis=1, inplace=True)"
   ]
  },
  {
   "cell_type": "code",
   "execution_count": 67,
   "id": "118dd215",
   "metadata": {},
   "outputs": [],
   "source": [
    "# Rename columns\n",
    "nypd_data_cleaned = nypd_data.rename(columns={\"ARREST_BORO\": \"Borough\", \n",
    "                                              \"ARREST_PRECINCT\": \"Precinct Number\"})"
   ]
  },
  {
   "cell_type": "code",
   "execution_count": 68,
   "id": "139dbdea",
   "metadata": {},
   "outputs": [],
   "source": [
    "# Filter through data to prepare for charting\n",
    "borough_groups = nypd_data_cleaned.groupby(\"Borough\")\n",
    "borough_data.index = [\"The Bronx\", \"Brooklyn\", \"Manhattan\", \"Queens\", \"Staten Island\"]\n",
    "borough_data_cleaned = borough_data.rename(columns={\"ARREST_KEY\": \"Number of Arrests\"})\n",
    "borough_data_sorted = borough_data_cleaned.sort_values(\"Number of Arrests\", ascending=False)"
   ]
  },
  {
   "cell_type": "code",
   "execution_count": 72,
   "id": "c2163d73",
   "metadata": {},
   "outputs": [],
   "source": [
    "precinct_groups = nypd_data_cleaned.groupby(\"Precinct Number\")\n",
    "precinct_data = precinct_groups[[\"ARREST_KEY\"]].count()\n",
    "precinct_data_cleaned = precinct_data.rename(columns={\"ARREST_KEY\": \"Number of Arrests\"})"
   ]
  },
  {
   "cell_type": "code",
   "execution_count": 85,
   "id": "2aefac45",
   "metadata": {},
   "outputs": [],
   "source": [
    "num_precincts = pd.DataFrame({\n",
    "    \"Number of Precincts\": [23,22,12,16,4],\n",
    "    \"Number of Arrests\": [38067, 34588, 32309, 29353, 6247]\n",
    "})"
   ]
  },
  {
   "cell_type": "code",
   "execution_count": 86,
   "id": "2a801e05",
   "metadata": {},
   "outputs": [
    {
     "data": {
      "text/html": [
       "<div>\n",
       "<style scoped>\n",
       "    .dataframe tbody tr th:only-of-type {\n",
       "        vertical-align: middle;\n",
       "    }\n",
       "\n",
       "    .dataframe tbody tr th {\n",
       "        vertical-align: top;\n",
       "    }\n",
       "\n",
       "    .dataframe thead th {\n",
       "        text-align: right;\n",
       "    }\n",
       "</style>\n",
       "<table border=\"1\" class=\"dataframe\">\n",
       "  <thead>\n",
       "    <tr style=\"text-align: right;\">\n",
       "      <th></th>\n",
       "      <th>Number of Precincts</th>\n",
       "      <th>Number of Arrests</th>\n",
       "    </tr>\n",
       "  </thead>\n",
       "  <tbody>\n",
       "    <tr>\n",
       "      <th>0</th>\n",
       "      <td>23</td>\n",
       "      <td>38067</td>\n",
       "    </tr>\n",
       "    <tr>\n",
       "      <th>1</th>\n",
       "      <td>22</td>\n",
       "      <td>34588</td>\n",
       "    </tr>\n",
       "    <tr>\n",
       "      <th>2</th>\n",
       "      <td>12</td>\n",
       "      <td>32309</td>\n",
       "    </tr>\n",
       "    <tr>\n",
       "      <th>3</th>\n",
       "      <td>16</td>\n",
       "      <td>29353</td>\n",
       "    </tr>\n",
       "    <tr>\n",
       "      <th>4</th>\n",
       "      <td>4</td>\n",
       "      <td>6247</td>\n",
       "    </tr>\n",
       "  </tbody>\n",
       "</table>\n",
       "</div>"
      ],
      "text/plain": [
       "   Number of Precincts  Number of Arrests\n",
       "0                   23              38067\n",
       "1                   22              34588\n",
       "2                   12              32309\n",
       "3                   16              29353\n",
       "4                    4               6247"
      ]
     },
     "execution_count": 86,
     "metadata": {},
     "output_type": "execute_result"
    }
   ],
   "source": [
    "num_precincts"
   ]
  },
  {
   "cell_type": "code",
   "execution_count": 89,
   "id": "cc5ec08f",
   "metadata": {},
   "outputs": [],
   "source": [
    "x_values = num_precincts[\"Number of Precincts\"]\n",
    "y_values = num_precincts[\"Number of Arrests\"]"
   ]
  },
  {
   "cell_type": "code",
   "execution_count": 43,
   "id": "ab6bd14c",
   "metadata": {},
   "outputs": [
    {
     "data": {
      "text/html": [
       "<div>\n",
       "<style scoped>\n",
       "    .dataframe tbody tr th:only-of-type {\n",
       "        vertical-align: middle;\n",
       "    }\n",
       "\n",
       "    .dataframe tbody tr th {\n",
       "        vertical-align: top;\n",
       "    }\n",
       "\n",
       "    .dataframe thead th {\n",
       "        text-align: right;\n",
       "    }\n",
       "</style>\n",
       "<table border=\"1\" class=\"dataframe\">\n",
       "  <thead>\n",
       "    <tr style=\"text-align: right;\">\n",
       "      <th></th>\n",
       "      <th>Number of Arrests</th>\n",
       "    </tr>\n",
       "  </thead>\n",
       "  <tbody>\n",
       "    <tr>\n",
       "      <th>Brooklyn</th>\n",
       "      <td>38067</td>\n",
       "    </tr>\n",
       "    <tr>\n",
       "      <th>Manhattan</th>\n",
       "      <td>34588</td>\n",
       "    </tr>\n",
       "    <tr>\n",
       "      <th>The Bronx</th>\n",
       "      <td>32309</td>\n",
       "    </tr>\n",
       "    <tr>\n",
       "      <th>Queens</th>\n",
       "      <td>29353</td>\n",
       "    </tr>\n",
       "    <tr>\n",
       "      <th>Staten Island</th>\n",
       "      <td>6247</td>\n",
       "    </tr>\n",
       "  </tbody>\n",
       "</table>\n",
       "</div>"
      ],
      "text/plain": [
       "               Number of Arrests\n",
       "Brooklyn                   38067\n",
       "Manhattan                  34588\n",
       "The Bronx                  32309\n",
       "Queens                     29353\n",
       "Staten Island               6247"
      ]
     },
     "execution_count": 43,
     "metadata": {},
     "output_type": "execute_result"
    }
   ],
   "source": [
    "# Display filtered Borough DataFrame\n",
    "borough_data_sorted"
   ]
  },
  {
   "cell_type": "code",
   "execution_count": 73,
   "id": "397eaec4",
   "metadata": {},
   "outputs": [
    {
     "data": {
      "text/html": [
       "<div>\n",
       "<style scoped>\n",
       "    .dataframe tbody tr th:only-of-type {\n",
       "        vertical-align: middle;\n",
       "    }\n",
       "\n",
       "    .dataframe tbody tr th {\n",
       "        vertical-align: top;\n",
       "    }\n",
       "\n",
       "    .dataframe thead th {\n",
       "        text-align: right;\n",
       "    }\n",
       "</style>\n",
       "<table border=\"1\" class=\"dataframe\">\n",
       "  <thead>\n",
       "    <tr style=\"text-align: right;\">\n",
       "      <th></th>\n",
       "      <th>Number of Arrests</th>\n",
       "    </tr>\n",
       "    <tr>\n",
       "      <th>Precinct Number</th>\n",
       "      <th></th>\n",
       "    </tr>\n",
       "  </thead>\n",
       "  <tbody>\n",
       "    <tr>\n",
       "      <th>1</th>\n",
       "      <td>1605</td>\n",
       "    </tr>\n",
       "    <tr>\n",
       "      <th>5</th>\n",
       "      <td>2087</td>\n",
       "    </tr>\n",
       "    <tr>\n",
       "      <th>6</th>\n",
       "      <td>1422</td>\n",
       "    </tr>\n",
       "    <tr>\n",
       "      <th>7</th>\n",
       "      <td>1543</td>\n",
       "    </tr>\n",
       "    <tr>\n",
       "      <th>9</th>\n",
       "      <td>1656</td>\n",
       "    </tr>\n",
       "  </tbody>\n",
       "</table>\n",
       "</div>"
      ],
      "text/plain": [
       "                 Number of Arrests\n",
       "Precinct Number                   \n",
       "1                             1605\n",
       "5                             2087\n",
       "6                             1422\n",
       "7                             1543\n",
       "9                             1656"
      ]
     },
     "execution_count": 73,
     "metadata": {},
     "output_type": "execute_result"
    }
   ],
   "source": [
    "# Display filtered Precinct DataFrame\n",
    "precinct_data_cleaned.head()"
   ]
  },
  {
   "cell_type": "code",
   "execution_count": 132,
   "id": "744c6ea8",
   "metadata": {},
   "outputs": [
    {
     "data": {
      "image/png": "[encoded data removed]",
      "text/plain": [
       "<Figure size 432x288 with 1 Axes>"
      ]
     },
     "metadata": {},
     "output_type": "display_data"
    }
   ],
   "source": [
    "explode = (0.1,0,0,0,0)\n",
    "colors = [\"lightblue\", \"yellow\", \"yellowgreen\", \"coral\", \"violet\"]\n",
    "borough_pie_chart = borough_data_sorted.plot(kind=\"pie\", subplots=True, legend=False, \n",
    "                                            autopct=\"%1.1f%%\", ylabel=\"\", explode=explode,\n",
    "                                            shadow=True, colors=colors)\n",
    "plt.title(\"Percentage of Arrests\")\n",
    "plt.savefig(\"Images/NYPD_Borough_Pie\")\n",
    "plt.show()"
   ]
  },
  {
   "cell_type": "code",
   "execution_count": 41,
   "id": "6fe09210",
   "metadata": {
    "scrolled": true
   },
   "outputs": [
    {
     "data": {
      "image/png": "[encoded data removed]",
      "text/plain": [
       "<Figure size 432x288 with 1 Axes>"
      ]
     },
     "metadata": {
      "needs_background": "light"
     },
     "output_type": "display_data"
    }
   ],
   "source": [
    "borough_bar_chart = borough_data_sorted.plot(kind=\"bar\", legend=False)"
   ]
  },
  {
   "cell_type": "code",
   "execution_count": 133,
   "id": "323dcb50",
   "metadata": {},
   "outputs": [
    {
     "name": "stdout",
     "output_type": "stream",
     "text": [
      "The r-squared is: 0.8079196191962024\n"
     ]
    },
    {
     "data": {
      "image/png": "[encoded data removed]",
      "text/plain": [
       "<Figure size 432x288 with 1 Axes>"
      ]
     },
     "metadata": {
      "needs_background": "light"
     },
     "output_type": "display_data"
    }
   ],
   "source": [
    "plt.scatter(num_precincts[\"Number of Precincts\"], num_precincts[\"Number of Arrests\"], color=\"blue\")\n",
    "(slope, intercept, rvalue, pvalue, stderr) = linregress(x_values, y_values)\n",
    "regress_values = x_values * slope + intercept\n",
    "line_eq = \"y = \" + str(round(slope,2)) + \"x + \" + str(round(intercept,2))\n",
    "plt.scatter(x_values,y_values)\n",
    "plt.plot(x_values,regress_values,\"r-\")\n",
    "plt.annotate(line_eq,(5.8,0.8),fontsize=15,color=\"red\")\n",
    "print(f\"The r-squared is: {rvalue**2}\")\n",
    "plt.ylabel(\"Number of Arrests\")\n",
    "plt.xlabel(\"Number of Precincts\")\n",
    "plt.savefig(\"Images/NYPD_Precinct_Scatter\")\n",
    "plt.show()"
   ]
  },
  {
   "cell_type": "code",
   "execution_count": null,
   "id": "e6a6efa2",
   "metadata": {},
   "outputs": [],
   "source": []
  }
 ],
 "metadata": {
  "kernelspec": {
   "display_name": "Python 3 (ipykernel)",
   "language": "python",
   "name": "python3"
  },
  "language_info": {
   "codemirror_mode": {
    "name": "ipython",
    "version": 3
   },
   "file_extension": ".py",
   "mimetype": "text/x-python",
   "name": "python",
   "nbconvert_exporter": "python",
   "pygments_lexer": "ipython3",
   "version": "3.9.12"
  }
 },
 "nbformat": 4,
 "nbformat_minor": 5
}
