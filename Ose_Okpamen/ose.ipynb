{
 "cells": [
  {
   "cell_type": "code",
   "execution_count": 25,
   "id": "368e88c5",
   "metadata": {
    "scrolled": false
   },
   "outputs": [],
   "source": [
    "import pandas as pd\n",
    "import numpy as np\n",
    "import matplotlib.pyplot as plt\n",
    "from datetime import datetime\n",
    "# import hvplot.pandas"
   ]
  },
  {
   "cell_type": "code",
   "execution_count": 2,
   "id": "0a86517a",
   "metadata": {},
   "outputs": [
    {
     "data": {
      "text/html": [
       "<div>\n",
       "<style scoped>\n",
       "    .dataframe tbody tr th:only-of-type {\n",
       "        vertical-align: middle;\n",
       "    }\n",
       "\n",
       "    .dataframe tbody tr th {\n",
       "        vertical-align: top;\n",
       "    }\n",
       "\n",
       "    .dataframe thead th {\n",
       "        text-align: right;\n",
       "    }\n",
       "</style>\n",
       "<table border=\"1\" class=\"dataframe\">\n",
       "  <thead>\n",
       "    <tr style=\"text-align: right;\">\n",
       "      <th></th>\n",
       "      <th>ARREST_KEY</th>\n",
       "      <th>ARREST_DATE</th>\n",
       "      <th>PD_CD</th>\n",
       "      <th>PD_DESC</th>\n",
       "      <th>KY_CD</th>\n",
       "      <th>OFNS_DESC</th>\n",
       "      <th>LAW_CODE</th>\n",
       "      <th>LAW_CAT_CD</th>\n",
       "      <th>ARREST_BORO</th>\n",
       "      <th>ARREST_PRECINCT</th>\n",
       "      <th>JURISDICTION_CODE</th>\n",
       "      <th>AGE_GROUP</th>\n",
       "      <th>PERP_SEX</th>\n",
       "      <th>PERP_RACE</th>\n",
       "      <th>X_COORD_CD</th>\n",
       "      <th>Y_COORD_CD</th>\n",
       "      <th>Latitude</th>\n",
       "      <th>Longitude</th>\n",
       "      <th>New Georeferenced Column</th>\n",
       "    </tr>\n",
       "  </thead>\n",
       "  <tbody>\n",
       "    <tr>\n",
       "      <th>0</th>\n",
       "      <td>238859078</td>\n",
       "      <td>01/09/2022</td>\n",
       "      <td>NaN</td>\n",
       "      <td>(null)</td>\n",
       "      <td>NaN</td>\n",
       "      <td>(null)</td>\n",
       "      <td>PL 2650022</td>\n",
       "      <td>M</td>\n",
       "      <td>B</td>\n",
       "      <td>49</td>\n",
       "      <td>0</td>\n",
       "      <td>25-44</td>\n",
       "      <td>M</td>\n",
       "      <td>BLACK HISPANIC</td>\n",
       "      <td>1021536</td>\n",
       "      <td>251417</td>\n",
       "      <td>40.856680</td>\n",
       "      <td>-73.865212</td>\n",
       "      <td>POINT (-73.865212 40.85668)</td>\n",
       "    </tr>\n",
       "    <tr>\n",
       "      <th>1</th>\n",
       "      <td>239923883</td>\n",
       "      <td>01/31/2022</td>\n",
       "      <td>NaN</td>\n",
       "      <td>(null)</td>\n",
       "      <td>NaN</td>\n",
       "      <td>(null)</td>\n",
       "      <td>CPL5700600</td>\n",
       "      <td>9</td>\n",
       "      <td>Q</td>\n",
       "      <td>113</td>\n",
       "      <td>3</td>\n",
       "      <td>25-44</td>\n",
       "      <td>M</td>\n",
       "      <td>BLACK</td>\n",
       "      <td>1046367</td>\n",
       "      <td>186986</td>\n",
       "      <td>40.679701</td>\n",
       "      <td>-73.776047</td>\n",
       "      <td>POINT (-73.77604735 40.67970059)</td>\n",
       "    </tr>\n",
       "    <tr>\n",
       "      <th>2</th>\n",
       "      <td>239651234</td>\n",
       "      <td>01/25/2022</td>\n",
       "      <td>153.0</td>\n",
       "      <td>RAPE 3</td>\n",
       "      <td>104.0</td>\n",
       "      <td>RAPE</td>\n",
       "      <td>PL 1302503</td>\n",
       "      <td>F</td>\n",
       "      <td>K</td>\n",
       "      <td>71</td>\n",
       "      <td>0</td>\n",
       "      <td>25-44</td>\n",
       "      <td>M</td>\n",
       "      <td>BLACK</td>\n",
       "      <td>998742</td>\n",
       "      <td>181235</td>\n",
       "      <td>40.664121</td>\n",
       "      <td>-73.947765</td>\n",
       "      <td>POINT (-73.9477648403751 40.664121282631)</td>\n",
       "    </tr>\n",
       "  </tbody>\n",
       "</table>\n",
       "</div>"
      ],
      "text/plain": [
       "   ARREST_KEY ARREST_DATE  PD_CD PD_DESC  KY_CD OFNS_DESC    LAW_CODE  \\\n",
       "0   238859078  01/09/2022    NaN  (null)    NaN    (null)  PL 2650022   \n",
       "1   239923883  01/31/2022    NaN  (null)    NaN    (null)  CPL5700600   \n",
       "2   239651234  01/25/2022  153.0  RAPE 3  104.0      RAPE  PL 1302503   \n",
       "\n",
       "  LAW_CAT_CD ARREST_BORO  ARREST_PRECINCT  JURISDICTION_CODE AGE_GROUP  \\\n",
       "0          M           B               49                  0     25-44   \n",
       "1          9           Q              113                  3     25-44   \n",
       "2          F           K               71                  0     25-44   \n",
       "\n",
       "  PERP_SEX       PERP_RACE  X_COORD_CD  Y_COORD_CD   Latitude  Longitude  \\\n",
       "0        M  BLACK HISPANIC     1021536      251417  40.856680 -73.865212   \n",
       "1        M           BLACK     1046367      186986  40.679701 -73.776047   \n",
       "2        M           BLACK      998742      181235  40.664121 -73.947765   \n",
       "\n",
       "                    New Georeferenced Column  \n",
       "0                POINT (-73.865212 40.85668)  \n",
       "1           POINT (-73.77604735 40.67970059)  \n",
       "2  POINT (-73.9477648403751 40.664121282631)  "
      ]
     },
     "execution_count": 2,
     "metadata": {},
     "output_type": "execute_result"
    }
   ],
   "source": [
    "data = pd.read_csv(\"NYPD_Arrest_Data__Year_to_Date_.csv\")\n",
    "data.head(3)"
   ]
  },
  {
   "cell_type": "code",
   "execution_count": 3,
   "id": "6badcefe",
   "metadata": {},
   "outputs": [
    {
     "data": {
      "text/html": [
       "<div>\n",
       "<style scoped>\n",
       "    .dataframe tbody tr th:only-of-type {\n",
       "        vertical-align: middle;\n",
       "    }\n",
       "\n",
       "    .dataframe tbody tr th {\n",
       "        vertical-align: top;\n",
       "    }\n",
       "\n",
       "    .dataframe thead th {\n",
       "        text-align: right;\n",
       "    }\n",
       "</style>\n",
       "<table border=\"1\" class=\"dataframe\">\n",
       "  <thead>\n",
       "    <tr style=\"text-align: right;\">\n",
       "      <th></th>\n",
       "      <th>ARREST_KEY</th>\n",
       "      <th>ARREST_DATE</th>\n",
       "      <th>PD_CD</th>\n",
       "      <th>PD_DESC</th>\n",
       "      <th>KY_CD</th>\n",
       "      <th>OFNS_DESC</th>\n",
       "      <th>LAW_CODE</th>\n",
       "      <th>LAW_CAT_CD</th>\n",
       "      <th>ARREST_BORO</th>\n",
       "      <th>ARREST_PRECINCT</th>\n",
       "      <th>JURISDICTION_CODE</th>\n",
       "      <th>AGE_GROUP</th>\n",
       "      <th>PERP_SEX</th>\n",
       "      <th>PERP_RACE</th>\n",
       "      <th>X_COORD_CD</th>\n",
       "      <th>Y_COORD_CD</th>\n",
       "      <th>Latitude</th>\n",
       "      <th>Longitude</th>\n",
       "      <th>New Georeferenced Column</th>\n",
       "    </tr>\n",
       "  </thead>\n",
       "  <tbody>\n",
       "    <tr>\n",
       "      <th>2</th>\n",
       "      <td>239651234</td>\n",
       "      <td>01/25/2022</td>\n",
       "      <td>153.0</td>\n",
       "      <td>RAPE 3</td>\n",
       "      <td>104.0</td>\n",
       "      <td>RAPE</td>\n",
       "      <td>PL 1302503</td>\n",
       "      <td>F</td>\n",
       "      <td>K</td>\n",
       "      <td>71</td>\n",
       "      <td>0</td>\n",
       "      <td>25-44</td>\n",
       "      <td>M</td>\n",
       "      <td>BLACK</td>\n",
       "      <td>998742</td>\n",
       "      <td>181235</td>\n",
       "      <td>40.664121</td>\n",
       "      <td>-73.947765</td>\n",
       "      <td>POINT (-73.9477648403751 40.664121282631)</td>\n",
       "    </tr>\n",
       "    <tr>\n",
       "      <th>3</th>\n",
       "      <td>241524225</td>\n",
       "      <td>03/03/2022</td>\n",
       "      <td>157.0</td>\n",
       "      <td>RAPE 1</td>\n",
       "      <td>104.0</td>\n",
       "      <td>RAPE</td>\n",
       "      <td>PL 1303501</td>\n",
       "      <td>F</td>\n",
       "      <td>K</td>\n",
       "      <td>84</td>\n",
       "      <td>0</td>\n",
       "      <td>18-24</td>\n",
       "      <td>M</td>\n",
       "      <td>BLACK</td>\n",
       "      <td>988902</td>\n",
       "      <td>192641</td>\n",
       "      <td>40.695439</td>\n",
       "      <td>-73.983225</td>\n",
       "      <td>POINT (-73.9832253756043 40.6954388081238)</td>\n",
       "    </tr>\n",
       "    <tr>\n",
       "      <th>4</th>\n",
       "      <td>241038267</td>\n",
       "      <td>02/22/2022</td>\n",
       "      <td>157.0</td>\n",
       "      <td>RAPE 1</td>\n",
       "      <td>104.0</td>\n",
       "      <td>RAPE</td>\n",
       "      <td>PL 1303501</td>\n",
       "      <td>F</td>\n",
       "      <td>B</td>\n",
       "      <td>41</td>\n",
       "      <td>0</td>\n",
       "      <td>45-64</td>\n",
       "      <td>M</td>\n",
       "      <td>BLACK</td>\n",
       "      <td>1013037</td>\n",
       "      <td>236657</td>\n",
       "      <td>40.816206</td>\n",
       "      <td>-73.896001</td>\n",
       "      <td>POINT (-73.8960011932583 40.8162058439227)</td>\n",
       "    </tr>\n",
       "  </tbody>\n",
       "</table>\n",
       "</div>"
      ],
      "text/plain": [
       "   ARREST_KEY ARREST_DATE  PD_CD PD_DESC  KY_CD OFNS_DESC    LAW_CODE  \\\n",
       "2   239651234  01/25/2022  153.0  RAPE 3  104.0      RAPE  PL 1302503   \n",
       "3   241524225  03/03/2022  157.0  RAPE 1  104.0      RAPE  PL 1303501   \n",
       "4   241038267  02/22/2022  157.0  RAPE 1  104.0      RAPE  PL 1303501   \n",
       "\n",
       "  LAW_CAT_CD ARREST_BORO  ARREST_PRECINCT  JURISDICTION_CODE AGE_GROUP  \\\n",
       "2          F           K               71                  0     25-44   \n",
       "3          F           K               84                  0     18-24   \n",
       "4          F           B               41                  0     45-64   \n",
       "\n",
       "  PERP_SEX PERP_RACE  X_COORD_CD  Y_COORD_CD   Latitude  Longitude  \\\n",
       "2        M     BLACK      998742      181235  40.664121 -73.947765   \n",
       "3        M     BLACK      988902      192641  40.695439 -73.983225   \n",
       "4        M     BLACK     1013037      236657  40.816206 -73.896001   \n",
       "\n",
       "                     New Georeferenced Column  \n",
       "2   POINT (-73.9477648403751 40.664121282631)  \n",
       "3  POINT (-73.9832253756043 40.6954388081238)  \n",
       "4  POINT (-73.8960011932583 40.8162058439227)  "
      ]
     },
     "execution_count": 3,
     "metadata": {},
     "output_type": "execute_result"
    }
   ],
   "source": [
    "new = data.dropna()\n",
    "new.head(3)"
   ]
  },
  {
   "cell_type": "code",
   "execution_count": 4,
   "id": "942e910a",
   "metadata": {
    "scrolled": false
   },
   "outputs": [
    {
     "data": {
      "text/html": [
       "<div>\n",
       "<style scoped>\n",
       "    .dataframe tbody tr th:only-of-type {\n",
       "        vertical-align: middle;\n",
       "    }\n",
       "\n",
       "    .dataframe tbody tr th {\n",
       "        vertical-align: top;\n",
       "    }\n",
       "\n",
       "    .dataframe thead th {\n",
       "        text-align: right;\n",
       "    }\n",
       "</style>\n",
       "<table border=\"1\" class=\"dataframe\">\n",
       "  <thead>\n",
       "    <tr style=\"text-align: right;\">\n",
       "      <th></th>\n",
       "      <th>ARREST_KEY</th>\n",
       "      <th>ARREST_DATE</th>\n",
       "      <th>OFNS_DESC</th>\n",
       "      <th>LAW_CAT_CD</th>\n",
       "      <th>AGE_GROUP</th>\n",
       "      <th>PERP_RACE</th>\n",
       "    </tr>\n",
       "  </thead>\n",
       "  <tbody>\n",
       "    <tr>\n",
       "      <th>2</th>\n",
       "      <td>239651234</td>\n",
       "      <td>01/25/2022</td>\n",
       "      <td>RAPE</td>\n",
       "      <td>F</td>\n",
       "      <td>25-44</td>\n",
       "      <td>BLACK</td>\n",
       "    </tr>\n",
       "    <tr>\n",
       "      <th>3</th>\n",
       "      <td>241524225</td>\n",
       "      <td>03/03/2022</td>\n",
       "      <td>RAPE</td>\n",
       "      <td>F</td>\n",
       "      <td>18-24</td>\n",
       "      <td>BLACK</td>\n",
       "    </tr>\n",
       "    <tr>\n",
       "      <th>4</th>\n",
       "      <td>241038267</td>\n",
       "      <td>02/22/2022</td>\n",
       "      <td>RAPE</td>\n",
       "      <td>F</td>\n",
       "      <td>45-64</td>\n",
       "      <td>BLACK</td>\n",
       "    </tr>\n",
       "  </tbody>\n",
       "</table>\n",
       "</div>"
      ],
      "text/plain": [
       "   ARREST_KEY ARREST_DATE OFNS_DESC LAW_CAT_CD AGE_GROUP PERP_RACE\n",
       "2   239651234  01/25/2022      RAPE          F     25-44     BLACK\n",
       "3   241524225  03/03/2022      RAPE          F     18-24     BLACK\n",
       "4   241038267  02/22/2022      RAPE          F     45-64     BLACK"
      ]
     },
     "execution_count": 4,
     "metadata": {},
     "output_type": "execute_result"
    }
   ],
   "source": [
    "new_data = new.drop(columns=[\"PD_CD\", \"KY_CD\", \"PD_DESC\", \"LAW_CODE\",\"PERP_SEX\",\n",
    "                              \"ARREST_BORO\", \"ARREST_PRECINCT\", \"JURISDICTION_CODE\",\n",
    "                              \"X_COORD_CD\", \"Y_COORD_CD\", \"Latitude\", \"Longitude\",\n",
    "                               \"New Georeferenced Column\"])\n",
    "new_data.head(3)"
   ]
  },
  {
   "cell_type": "code",
   "execution_count": 5,
   "id": "e9af79a2",
   "metadata": {},
   "outputs": [],
   "source": [
    "new_nypd_data = new_data.rename(columns = {\"ARREST_KEY\": \"Arrest Key\",\n",
    "                                           \"ARREST_DATE\": \"Arrest Date\",\n",
    "                                           \"OFNS_DESC\": \"Offense Desc\",\n",
    "                                           \"LAW_CAT_CD\": \"Offense Cat\",\n",
    "                                           \"AGE_GROUP\": \"Age Group\",\n",
    "                                           \"PERP_RACE\": \"Perp Race\"\n",
    "                                          })"
   ]
  },
  {
   "cell_type": "code",
   "execution_count": 6,
   "id": "9daba578",
   "metadata": {},
   "outputs": [
    {
     "data": {
      "text/html": [
       "<div>\n",
       "<style scoped>\n",
       "    .dataframe tbody tr th:only-of-type {\n",
       "        vertical-align: middle;\n",
       "    }\n",
       "\n",
       "    .dataframe tbody tr th {\n",
       "        vertical-align: top;\n",
       "    }\n",
       "\n",
       "    .dataframe thead th {\n",
       "        text-align: right;\n",
       "    }\n",
       "</style>\n",
       "<table border=\"1\" class=\"dataframe\">\n",
       "  <thead>\n",
       "    <tr style=\"text-align: right;\">\n",
       "      <th></th>\n",
       "      <th>Arrest Key</th>\n",
       "      <th>Arrest Date</th>\n",
       "      <th>Offense Desc</th>\n",
       "      <th>Offense Cat</th>\n",
       "      <th>Age Group</th>\n",
       "      <th>Perp Race</th>\n",
       "    </tr>\n",
       "  </thead>\n",
       "  <tbody>\n",
       "    <tr>\n",
       "      <th>2</th>\n",
       "      <td>239651234</td>\n",
       "      <td>01/25/2022</td>\n",
       "      <td>RAPE</td>\n",
       "      <td>Felony</td>\n",
       "      <td>25-44</td>\n",
       "      <td>BLACK</td>\n",
       "    </tr>\n",
       "    <tr>\n",
       "      <th>3</th>\n",
       "      <td>241524225</td>\n",
       "      <td>03/03/2022</td>\n",
       "      <td>RAPE</td>\n",
       "      <td>Felony</td>\n",
       "      <td>18-24</td>\n",
       "      <td>BLACK</td>\n",
       "    </tr>\n",
       "    <tr>\n",
       "      <th>4</th>\n",
       "      <td>241038267</td>\n",
       "      <td>02/22/2022</td>\n",
       "      <td>RAPE</td>\n",
       "      <td>Felony</td>\n",
       "      <td>45-64</td>\n",
       "      <td>BLACK</td>\n",
       "    </tr>\n",
       "  </tbody>\n",
       "</table>\n",
       "</div>"
      ],
      "text/plain": [
       "   Arrest Key Arrest Date Offense Desc Offense Cat Age Group Perp Race\n",
       "2   239651234  01/25/2022         RAPE      Felony     25-44     BLACK\n",
       "3   241524225  03/03/2022         RAPE      Felony     18-24     BLACK\n",
       "4   241038267  02/22/2022         RAPE      Felony     45-64     BLACK"
      ]
     },
     "execution_count": 6,
     "metadata": {},
     "output_type": "execute_result"
    }
   ],
   "source": [
    "new_nypd_data = new_nypd_data.replace({\"HARRASSMENT 2\": \"HARASSMENT\",\"ESCAPE 3\": \"ESCAPE\",\n",
    "\"THEFT OF SERVICES\": \"THEFT\",\"THEFT-FRAUD\": \"THEFT\",\"OTHER TRAFFIC INFRACTION\": \"VEHICLE AND TRAFFIC LAWS\",\n",
    "\"ASSAULT 3 & RELATED OFFENSES\": \"ASSAULT 3\",\"CRIMINAL MISCHIEF & RELATED OF\": \"CRIMINAL MISCHIEF\",\n",
    "\"OFF. AGNST PUB ORD SENSBLTY &\": 'OFFENSES AGAINST PUBLIC ORDER/ADMINISTRATION',\n",
    "\"OTHER STATE LAWS (NON PENAL LA\": \"OTHER STATE LAWS (NON PENAL LAW)\",\n",
    "\"ENDAN WELFARE INCOMP\": \"ENDANGERING WELFARE OF INCOMPETENT\",\n",
    "\"AGRICULTURE & MRKTS LAW-UNCLASSIFIED\": \"AGRICULTURE & MARKETS LAW\",\n",
    "\"DISRUPTION OF A RELIGIOUS SERV\": \"DISRUPTION OF A RELIGIOUS SERVICE\",\n",
    "\"LOITERING/GAMBLING (CARDS, DIC\": \"GAMBLING\",\"OFFENSES AGAINST MARRIAGE UNCL\": \"OFFENSES AGAINST MARRIAGE\",\n",
    "\"HOMICIDE-NEGLIGENT,UNCLASSIFIE\": \"HOMICIDE-NEGLIGENT\",\"HOMICIDE-NEGLIGENT-VEHICLE\": \"HOMICIDE-NEGLIGENT\",\n",
    "\"I\": \"Violation\", \"V\": \"Violation\",\"F\": \"Felony\",\"M\": \"Misdemeanor\"}).copy()\n",
    "new_nypd_data.head(3)"
   ]
  },
  {
   "cell_type": "code",
   "execution_count": 7,
   "id": "6fa61b3a",
   "metadata": {},
   "outputs": [
    {
     "data": {
      "text/html": [
       "<div>\n",
       "<style scoped>\n",
       "    .dataframe tbody tr th:only-of-type {\n",
       "        vertical-align: middle;\n",
       "    }\n",
       "\n",
       "    .dataframe tbody tr th {\n",
       "        vertical-align: top;\n",
       "    }\n",
       "\n",
       "    .dataframe thead th {\n",
       "        text-align: right;\n",
       "    }\n",
       "</style>\n",
       "<table border=\"1\" class=\"dataframe\">\n",
       "  <thead>\n",
       "    <tr style=\"text-align: right;\">\n",
       "      <th></th>\n",
       "      <th>Arrest Key</th>\n",
       "      <th>Arrest Date</th>\n",
       "      <th>Offense Desc</th>\n",
       "      <th>Offense Cat</th>\n",
       "      <th>Age Group</th>\n",
       "      <th>Perp Race</th>\n",
       "      <th>Month</th>\n",
       "    </tr>\n",
       "  </thead>\n",
       "  <tbody>\n",
       "    <tr>\n",
       "      <th>2</th>\n",
       "      <td>239651234</td>\n",
       "      <td>2022-01-25</td>\n",
       "      <td>RAPE</td>\n",
       "      <td>Felony</td>\n",
       "      <td>25-44</td>\n",
       "      <td>BLACK</td>\n",
       "      <td>Jan</td>\n",
       "    </tr>\n",
       "    <tr>\n",
       "      <th>3</th>\n",
       "      <td>241524225</td>\n",
       "      <td>2022-03-03</td>\n",
       "      <td>RAPE</td>\n",
       "      <td>Felony</td>\n",
       "      <td>18-24</td>\n",
       "      <td>BLACK</td>\n",
       "      <td>Mar</td>\n",
       "    </tr>\n",
       "    <tr>\n",
       "      <th>4</th>\n",
       "      <td>241038267</td>\n",
       "      <td>2022-02-22</td>\n",
       "      <td>RAPE</td>\n",
       "      <td>Felony</td>\n",
       "      <td>45-64</td>\n",
       "      <td>BLACK</td>\n",
       "      <td>Feb</td>\n",
       "    </tr>\n",
       "  </tbody>\n",
       "</table>\n",
       "</div>"
      ],
      "text/plain": [
       "   Arrest Key Arrest Date Offense Desc Offense Cat Age Group Perp Race Month\n",
       "2   239651234  2022-01-25         RAPE      Felony     25-44     BLACK   Jan\n",
       "3   241524225  2022-03-03         RAPE      Felony     18-24     BLACK   Mar\n",
       "4   241038267  2022-02-22         RAPE      Felony     45-64     BLACK   Feb"
      ]
     },
     "execution_count": 7,
     "metadata": {},
     "output_type": "execute_result"
    }
   ],
   "source": [
    "new_nypd_data['Arrest Date'] = pd.to_datetime(new_nypd_data['Arrest Date'])\n",
    "new_nypd_data['Month'] = new_nypd_data['Arrest Date'].dt.month_name().str[:3]\n",
    "new_nypd_data.head(3)"
   ]
  },
  {
   "cell_type": "code",
   "execution_count": 8,
   "id": "d8781985",
   "metadata": {},
   "outputs": [],
   "source": [
    "offense = new_nypd_data[\"Offense Desc\"].value_counts()\n",
    "offense = offense.iloc[:10].sort_values(ascending = True)"
   ]
  },
  {
   "cell_type": "code",
   "execution_count": 9,
   "id": "1a7769f0",
   "metadata": {
    "scrolled": true
   },
   "outputs": [
    {
     "data": {
      "image/png": "[encoded data removed]",
      "text/plain": [
       "<Figure size 432x288 with 1 Axes>"
      ]
     },
     "metadata": {
      "needs_background": "light"
     },
     "output_type": "display_data"
    }
   ],
   "source": [
    "offense.plot(kind = \"barh\",title = \"Top 10 Offense\")\n",
    "plt.savefig(\"output/Fig1.png\")"
   ]
  },
  {
   "cell_type": "code",
   "execution_count": 10,
   "id": "911943d3",
   "metadata": {},
   "outputs": [
    {
     "data": {
      "image/png": "[encoded data removed]",
      "text/plain": [
       "<Figure size 432x432 with 1 Axes>"
      ]
     },
     "metadata": {},
     "output_type": "display_data"
    }
   ],
   "source": [
    "level_of_offense = new_nypd_data[\"Offense Cat\"].value_counts().sort_values()\n",
    "level_of_offense.plot(kind=\"pie\",subplots=True, explode = [0, 0, 0.01], \n",
    "                    shadow = False, startangle=40, figsize=(6,6),autopct=\"%1.1f%%\",\n",
    "                    title = 'Level of Offense', colors = [\"#99ff99\",\"#66b3ff\",\"#ff6666\"])\n",
    "plt.savefig(\"output/Fig2.png\")"
   ]
  },
  {
   "cell_type": "code",
   "execution_count": 11,
   "id": "78f1c5e7",
   "metadata": {},
   "outputs": [
    {
     "data": {
      "text/html": [
       "<div>\n",
       "<style scoped>\n",
       "    .dataframe tbody tr th:only-of-type {\n",
       "        vertical-align: middle;\n",
       "    }\n",
       "\n",
       "    .dataframe tbody tr th {\n",
       "        vertical-align: top;\n",
       "    }\n",
       "\n",
       "    .dataframe thead th {\n",
       "        text-align: right;\n",
       "    }\n",
       "</style>\n",
       "<table border=\"1\" class=\"dataframe\">\n",
       "  <thead>\n",
       "    <tr style=\"text-align: right;\">\n",
       "      <th></th>\n",
       "      <th>Arrest Month</th>\n",
       "      <th>Offense</th>\n",
       "    </tr>\n",
       "  </thead>\n",
       "  <tbody>\n",
       "    <tr>\n",
       "      <th>2</th>\n",
       "      <td>Jan</td>\n",
       "      <td>Felony</td>\n",
       "    </tr>\n",
       "    <tr>\n",
       "      <th>3</th>\n",
       "      <td>Mar</td>\n",
       "      <td>Felony</td>\n",
       "    </tr>\n",
       "    <tr>\n",
       "      <th>4</th>\n",
       "      <td>Feb</td>\n",
       "      <td>Felony</td>\n",
       "    </tr>\n",
       "  </tbody>\n",
       "</table>\n",
       "</div>"
      ],
      "text/plain": [
       "  Arrest Month Offense\n",
       "2          Jan  Felony\n",
       "3          Mar  Felony\n",
       "4          Feb  Felony"
      ]
     },
     "execution_count": 11,
     "metadata": {},
     "output_type": "execute_result"
    }
   ],
   "source": [
    "date_df = pd.DataFrame({\"Arrest Month\": new_nypd_data[\"Month\"],\n",
    "                          \"Offense\": new_nypd_data[\"Offense Cat\"]})\n",
    "\n",
    "date_df.head(3)"
   ]
  },
  {
   "cell_type": "code",
   "execution_count": 12,
   "id": "2465bf4c",
   "metadata": {},
   "outputs": [
    {
     "data": {
      "text/html": [
       "<div>\n",
       "<style scoped>\n",
       "    .dataframe tbody tr th:only-of-type {\n",
       "        vertical-align: middle;\n",
       "    }\n",
       "\n",
       "    .dataframe tbody tr th {\n",
       "        vertical-align: top;\n",
       "    }\n",
       "\n",
       "    .dataframe thead th {\n",
       "        text-align: right;\n",
       "    }\n",
       "</style>\n",
       "<table border=\"1\" class=\"dataframe\">\n",
       "  <thead>\n",
       "    <tr style=\"text-align: right;\">\n",
       "      <th></th>\n",
       "      <th>Month</th>\n",
       "      <th>Num of Arrests</th>\n",
       "    </tr>\n",
       "  </thead>\n",
       "  <tbody>\n",
       "    <tr>\n",
       "      <th>0</th>\n",
       "      <td>Jan</td>\n",
       "      <td>16712</td>\n",
       "    </tr>\n",
       "    <tr>\n",
       "      <th>1</th>\n",
       "      <td>Mar</td>\n",
       "      <td>16378</td>\n",
       "    </tr>\n",
       "    <tr>\n",
       "      <th>2</th>\n",
       "      <td>Feb</td>\n",
       "      <td>16175</td>\n",
       "    </tr>\n",
       "  </tbody>\n",
       "</table>\n",
       "</div>"
      ],
      "text/plain": [
       "  Month  Num of Arrests\n",
       "0   Jan           16712\n",
       "1   Mar           16378\n",
       "2   Feb           16175"
      ]
     },
     "execution_count": 12,
     "metadata": {},
     "output_type": "execute_result"
    }
   ],
   "source": [
    "arrests_count = date_df[\"Arrest Month\"].value_counts().tolist()\n",
    "arrests_month =date_df[\"Arrest Month\"].unique().tolist()\n",
    "arrest_df = pd.DataFrame({\"Month\": arrests_month,\n",
    "                      \"Num of Arrests\":arrests_count})\n",
    "arrest_df.head(3)"
   ]
  },
  {
   "cell_type": "code",
   "execution_count": 13,
   "id": "26e58060",
   "metadata": {},
   "outputs": [
    {
     "data": {
      "image/png": "[encoded data removed]",
      "text/plain": [
       "<Figure size 432x288 with 1 Axes>"
      ]
     },
     "metadata": {
      "needs_background": "light"
     },
     "output_type": "display_data"
    }
   ],
   "source": [
    "x_axis = arrest_df[\"Month\"]\n",
    "y_axis = arrest_df[\"Num of Arrests\"]\n",
    "plt.bar(x_axis, y_axis)\n",
    "plt.title(\"Months per number of arrests\")\n",
    "plt.savefig(\"output/Fig3.png\")\n",
    "plt.show()"
   ]
  },
  {
   "cell_type": "code",
   "execution_count": 14,
   "id": "a8ff4a4d",
   "metadata": {
    "scrolled": true
   },
   "outputs": [],
   "source": [
    "mis_df = date_df.loc[date_df[\"Offense\"] == \"Misdemeanor\"]\n",
    "fel_df = date_df.loc[date_df[\"Offense\"] == \"Felony\"]\n",
    "viol_df = date_df.loc[date_df[\"Offense\"] == \"Violation\"]"
   ]
  },
  {
   "cell_type": "code",
   "execution_count": 15,
   "id": "408b2ad2",
   "metadata": {},
   "outputs": [],
   "source": [
    "mis_count = mis_df[\"Arrest Month\"].value_counts().tolist()\n",
    "mis_month = mis_df[\"Arrest Month\"].unique().tolist()\n",
    "mis_df = pd.DataFrame({\"Month\": mis_month,\n",
    "                      \"Mis Count\":mis_count})"
   ]
  },
  {
   "cell_type": "code",
   "execution_count": 16,
   "id": "15c7ed1c",
   "metadata": {},
   "outputs": [],
   "source": [
    "fel_count = fel_df[\"Arrest Month\"].value_counts().tolist()\n",
    "fel_month = fel_df[\"Arrest Month\"].unique().tolist()\n",
    "fel_df = pd.DataFrame({\"Month\": fel_month,\n",
    "                      \"Fel Count\":fel_count})"
   ]
  },
  {
   "cell_type": "code",
   "execution_count": 17,
   "id": "7d844ac2",
   "metadata": {},
   "outputs": [],
   "source": [
    "viol_count = viol_df[\"Arrest Month\"].value_counts().tolist()\n",
    "viol_month = viol_df[\"Arrest Month\"].unique().tolist()\n",
    "vio_df = pd.DataFrame({\"Month\": viol_month,\n",
    "                      \"Viol Count\":viol_count})"
   ]
  },
  {
   "cell_type": "code",
   "execution_count": 18,
   "id": "69721613",
   "metadata": {},
   "outputs": [],
   "source": [
    "mis_fel_comb = pd.merge(mis_df, fel_df, on=\"Month\", how = \"outer\")"
   ]
  },
  {
   "cell_type": "code",
   "execution_count": 19,
   "id": "2666edc5",
   "metadata": {},
   "outputs": [],
   "source": [
    "combined_df = pd.merge(mis_fel_comb, vio_df, on=\"Month\", how = \"outer\")"
   ]
  },
  {
   "cell_type": "code",
   "execution_count": 24,
   "id": "dc73ffc0",
   "metadata": {},
   "outputs": [
    {
     "data": {
      "text/html": [
       "<div>\n",
       "<style scoped>\n",
       "    .dataframe tbody tr th:only-of-type {\n",
       "        vertical-align: middle;\n",
       "    }\n",
       "\n",
       "    .dataframe tbody tr th {\n",
       "        vertical-align: top;\n",
       "    }\n",
       "\n",
       "    .dataframe thead th {\n",
       "        text-align: right;\n",
       "    }\n",
       "</style>\n",
       "<table border=\"1\" class=\"dataframe\">\n",
       "  <thead>\n",
       "    <tr style=\"text-align: right;\">\n",
       "      <th></th>\n",
       "      <th>Mis Count</th>\n",
       "      <th>Fel Count</th>\n",
       "      <th>Viol Count</th>\n",
       "    </tr>\n",
       "    <tr>\n",
       "      <th>Month</th>\n",
       "      <th></th>\n",
       "      <th></th>\n",
       "      <th></th>\n",
       "    </tr>\n",
       "  </thead>\n",
       "  <tbody>\n",
       "    <tr>\n",
       "      <th>Feb</th>\n",
       "      <td>9226</td>\n",
       "      <td>7386</td>\n",
       "      <td>95</td>\n",
       "    </tr>\n",
       "    <tr>\n",
       "      <th>Mar</th>\n",
       "      <td>8856</td>\n",
       "      <td>7391</td>\n",
       "      <td>81</td>\n",
       "    </tr>\n",
       "    <tr>\n",
       "      <th>Jun</th>\n",
       "      <td>8731</td>\n",
       "      <td>6297</td>\n",
       "      <td>56</td>\n",
       "    </tr>\n",
       "    <tr>\n",
       "      <th>Apr</th>\n",
       "      <td>8700</td>\n",
       "      <td>7370</td>\n",
       "      <td>87</td>\n",
       "    </tr>\n",
       "    <tr>\n",
       "      <th>Jan</th>\n",
       "      <td>8434</td>\n",
       "      <td>7414</td>\n",
       "      <td>108</td>\n",
       "    </tr>\n",
       "    <tr>\n",
       "      <th>May</th>\n",
       "      <td>8350</td>\n",
       "      <td>7120</td>\n",
       "      <td>78</td>\n",
       "    </tr>\n",
       "    <tr>\n",
       "      <th>Jul</th>\n",
       "      <td>8142</td>\n",
       "      <td>7109</td>\n",
       "      <td>77</td>\n",
       "    </tr>\n",
       "    <tr>\n",
       "      <th>Aug</th>\n",
       "      <td>7524</td>\n",
       "      <td>6063</td>\n",
       "      <td>74</td>\n",
       "    </tr>\n",
       "    <tr>\n",
       "      <th>Sep</th>\n",
       "      <td>6918</td>\n",
       "      <td>7062</td>\n",
       "      <td>74</td>\n",
       "    </tr>\n",
       "  </tbody>\n",
       "</table>\n",
       "</div>"
      ],
      "text/plain": [
       "       Mis Count  Fel Count  Viol Count\n",
       "Month                                  \n",
       "Feb         9226       7386          95\n",
       "Mar         8856       7391          81\n",
       "Jun         8731       6297          56\n",
       "Apr         8700       7370          87\n",
       "Jan         8434       7414         108\n",
       "May         8350       7120          78\n",
       "Jul         8142       7109          77\n",
       "Aug         7524       6063          74\n",
       "Sep         6918       7062          74"
      ]
     },
     "execution_count": 24,
     "metadata": {},
     "output_type": "execute_result"
    }
   ],
   "source": [
    "new_combined_df = combined_df.set_index('Month')\n",
    "new_combined_df"
   ]
  },
  {
   "cell_type": "code",
   "execution_count": 32,
   "id": "399ab261",
   "metadata": {},
   "outputs": [
    {
     "data": {
      "image/png": "[encoded data removed]",
      "text/plain": [
       "<Figure size 360x360 with 1 Axes>"
      ]
     },
     "metadata": {
      "needs_background": "light"
     },
     "output_type": "display_data"
    }
   ],
   "source": [
    "combined_df.plot(x=\"Month\", y=[\"Mis Count\", \"Fel Count\", \"Viol Count\"],\n",
    "        kind=\"bar\", figsize=(5, 5), title = \"Months per level of arrests\")\n",
    "plt.savefig(\"output/Fig4.png\")\n",
    "plt.show()"
   ]
  },
  {
   "cell_type": "code",
   "execution_count": 38,
   "id": "b684237d",
   "metadata": {},
   "outputs": [
    {
     "data": {
      "image/png": "[encoded data removed]",
      "text/plain": [
       "<Figure size 360x360 with 1 Axes>"
      ]
     },
     "metadata": {
      "needs_background": "light"
     },
     "output_type": "display_data"
    }
   ],
   "source": [
    "combined_df.plot(x=\"Month\", y=[\"Mis Count\"],\n",
    "        kind=\"bar\", figsize=(5, 5), title = \"Months per Misdemeanor arrests\")\n",
    "plt.savefig(\"output/Fig5.png\")\n",
    "plt.show()"
   ]
  },
  {
   "cell_type": "code",
   "execution_count": 37,
   "id": "e699cdb2",
   "metadata": {},
   "outputs": [
    {
     "data": {
      "image/png": "[encoded data removed]",
      "text/plain": [
       "<Figure size 360x360 with 1 Axes>"
      ]
     },
     "metadata": {
      "needs_background": "light"
     },
     "output_type": "display_data"
    }
   ],
   "source": [
    "combined_df.plot(x=\"Month\", y=[\"Fel Count\"],\n",
    "        kind=\"bar\", figsize=(5, 5), title = \"Months per Felony arrests\")\n",
    "plt.savefig(\"output/Fig6.png\")\n",
    "plt.show()"
   ]
  },
  {
   "cell_type": "code",
   "execution_count": 36,
   "id": "554b5e27",
   "metadata": {},
   "outputs": [
    {
     "data": {
      "image/png": "[encoded data removed]",
      "text/plain": [
       "<Figure size 360x360 with 1 Axes>"
      ]
     },
     "metadata": {
      "needs_background": "light"
     },
     "output_type": "display_data"
    }
   ],
   "source": [
    "combined_df.plot(x=\"Month\", y=[\"Viol Count\"],\n",
    "        kind=\"bar\", figsize=(5, 5), title = \"Months per Violation arrests\")\n",
    "plt.savefig(\"output/Fig7.png\")\n",
    "plt.show()"
   ]
  },
  {
   "cell_type": "code",
   "execution_count": 22,
   "id": "35ec2a02",
   "metadata": {},
   "outputs": [
    {
     "data": {
      "image/png": "[encoded data removed]",
      "text/plain": [
       "<Figure size 360x360 with 1 Axes>"
      ]
     },
     "metadata": {
      "needs_background": "light"
     },
     "output_type": "display_data"
    }
   ],
   "source": [
    "combined_df.plot(x=\"Month\", y=[\"Mis Count\", \"Fel Count\", \"Viol Count\"],\n",
    "        kind=\"line\", figsize=(5, 5), title = \"Months per level of arrests\")\n",
    "plt.savefig(\"output/Fig5.png\")\n",
    "plt.show()"
   ]
  },
  {
   "cell_type": "code",
   "execution_count": 26,
   "id": "abd62175",
   "metadata": {},
   "outputs": [],
   "source": [
    "# mis.astype('int').plot(kind = \"bar\")\n",
    "# fel.astype('int').plot(kind = \"bar\")\n",
    "# viol.astype('int').plot(kind = \"bar\")\n",
    "# plt.savefig(\"output/Fig4.png\")\n",
    "# plt.legend(loc='best')\n",
    "# plt.show()"
   ]
  },
  {
   "cell_type": "code",
   "execution_count": 27,
   "id": "c3c14544",
   "metadata": {},
   "outputs": [],
   "source": [
    "# mis.plot(kind = \"bar\")\n",
    "# plt.savefig(\"output/Fig5.png\")\n",
    "# plt.show()"
   ]
  },
  {
   "cell_type": "code",
   "execution_count": 28,
   "id": "ccc98f59",
   "metadata": {},
   "outputs": [],
   "source": [
    "# fel.plot(kind = \"bar\")\n",
    "# plt.savefig(\"output/Fig6.png\")\n",
    "# plt.show()"
   ]
  },
  {
   "cell_type": "code",
   "execution_count": 29,
   "id": "2309a949",
   "metadata": {},
   "outputs": [],
   "source": [
    "# viol.plot(kind = \"bar\")\n",
    "# plt.savefig(\"output/Fig7.png\")\n",
    "# plt.show()"
   ]
  }
 ],
 "metadata": {
  "kernelspec": {
   "display_name": "Python 3 (ipykernel)",
   "language": "python",
   "name": "python3"
  },
  "language_info": {
   "codemirror_mode": {
    "name": "ipython",
    "version": 3
   },
   "file_extension": ".py",
   "mimetype": "text/x-python",
   "name": "python",
   "nbconvert_exporter": "python",
   "pygments_lexer": "ipython3",
   "version": "3.9.12"
  }
 },
 "nbformat": 4,
 "nbformat_minor": 5
}
